{
 "cells": [
  {
   "cell_type": "markdown",
   "metadata": {},
   "source": [
    "# HHS CS Club Discord Bot"
   ]
  },
  {
   "cell_type": "markdown",
   "metadata": {},
   "source": [
    "### Python Cheat Sheets if you need one\n",
    "https://quickref.me/python.html  \n",
    "https://www.datacamp.com/cheat-sheet/getting-started-with-python-cheat-sheet  \n",
    "https://www.pythoncheatsheet.org/"
   ]
  },
  {
   "cell_type": "markdown",
   "metadata": {},
   "source": [
    "#### These are import statements"
   ]
  },
  {
   "cell_type": "code",
   "execution_count": 87,
   "metadata": {},
   "outputs": [],
   "source": [
    "import discord\n",
    "from discord.ext import commands\n",
    "import random"
   ]
  },
  {
   "cell_type": "markdown",
   "metadata": {},
   "source": [
    "#### Initializing bot object"
   ]
  },
  {
   "cell_type": "code",
   "execution_count": 88,
   "metadata": {},
   "outputs": [],
   "source": [
    "description = '''Howdy I'm the Homestead CS club bot.\n",
    "\n",
    "Here's some stuff I can do:'''\n",
    "\n",
    "intents = discord.Intents.default()\n",
    "intents.members = True\n",
    "intents.message_content = True\n",
    "\n",
    "bot = commands.Bot(command_prefix='?', description=description, intents=intents)"
   ]
  },
  {
   "cell_type": "markdown",
   "metadata": {},
   "source": [
    "#### Runs when bot is booted up"
   ]
  },
  {
   "cell_type": "code",
   "execution_count": 89,
   "metadata": {},
   "outputs": [],
   "source": [
    "@bot.event\n",
    "async def on_ready():\n",
    "    print(f'Logged in as {bot.user} (ID: {bot.user.id})')\n",
    "    print('------')"
   ]
  },
  {
   "cell_type": "markdown",
   "metadata": {},
   "source": [
    "# Add some features to the bot here!"
   ]
  },
  {
   "cell_type": "markdown",
   "metadata": {},
   "source": [
    "### Example\n",
    "When user types sends `?hello`, bot reponds `balls and lasagna`  \n",
    "User: `?hello`  \n",
    "Bot: `balls and lasagna`"
   ]
  },
  {
   "cell_type": "code",
   "execution_count": 90,
   "metadata": {},
   "outputs": [],
   "source": [
    "# decorator\n",
    "@bot.command()\n",
    "# function name is command name by default and can be changed with \"name\" keyword passed into decorator\n",
    "async def hello(ctx):\n",
    "    # docstrings\n",
    "    \"\"\"Responds \"balls and lasagna\\\"\"\"\"\n",
    "    # sends message in discord channel the command was called\n",
    "    await ctx.send(\"balls and lasagna\")"
   ]
  },
  {
   "cell_type": "markdown",
   "metadata": {},
   "source": [
    "`@bot.command()`: Decorator that adds functions into initialized bot object  \n",
    "`async`/`await`: Syntax for coroutines in Python. Allows code to perform multiple tasks at the same time  \n",
    "`ctx`: Context object. Contains information like message content, channel, user who sent the message, etc.  \n",
    "  \n",
    "Find more information on the discordpy library here:   \n",
    "https://discordpy.readthedocs.io/en/stable/index.html  \n",
    "https://discordpy.readthedocs.io/en/stable/ext/commands/commands.html   "
   ]
  },
  {
   "cell_type": "markdown",
   "metadata": {},
   "source": [
    "### Bing Chilling\n",
    "When the user sends `?bing`, bot responds `chilling`  \n",
    "User: `?bing`  \n",
    "Bot: `chilling`"
   ]
  },
  {
   "cell_type": "code",
   "execution_count": 91,
   "metadata": {},
   "outputs": [],
   "source": [
    "@bot.command()\n",
    "async def bing(ctx):\n",
    "   \"\"\"Responds \"chilling\\\"\"\"\"\n",
    "   # your code here\n",
    "   pass"
   ]
  },
  {
   "cell_type": "markdown",
   "metadata": {},
   "source": [
    "### Add\n",
    "When the user sends `?add` with two numbers, the bot return the sum of the two  \n",
    "User: `?add 1 5`  \n",
    "Bot: `6`  "
   ]
  },
  {
   "cell_type": "code",
   "execution_count": 92,
   "metadata": {},
   "outputs": [],
   "source": [
    "@bot.command()\n",
    "async def add(ctx, a, b):\n",
    "    \"\"\"Adds two numbers together.\"\"\"\n",
    "    # your code here\n",
    "    pass"
   ]
  },
  {
   "cell_type": "markdown",
   "metadata": {},
   "source": [
    "### Multiply\n",
    "When the user sends `?multiply` with two numbers, the bot multiplies them  \n",
    "User: `?multiply 2 3`  \n",
    "Bot: `6`"
   ]
  },
  {
   "cell_type": "code",
   "execution_count": 93,
   "metadata": {},
   "outputs": [],
   "source": [
    "@bot.command()\n",
    "# You can convert parameters through function annotations in the discord library\n",
    "# You can annotate it to anything that's callable: \"a: int\" is the same thing as doing \"a = int(a)\"\n",
    "async def multiply(ctx, a: int, b: int):\n",
    "    \"\"\"Multiplies two numbers together.\"\"\"\n",
    "    # your code here\n",
    "    pass"
   ]
  },
  {
   "cell_type": "markdown",
   "metadata": {},
   "source": [
    "### Dice\n",
    "When the user sends `?dice`, bot responds with a random number between `1`-`6` (inclusive)  \n",
    "User: `?dice`  \n",
    "Bot: `4`"
   ]
  },
  {
   "cell_type": "code",
   "execution_count": 94,
   "metadata": {},
   "outputs": [],
   "source": [
    "@bot.command()\n",
    "async def dice(ctx):\n",
    "   \"\"\"Responds with a random number between 1 and 6 (inclusive)\"\"\"\n",
    "   # your code here\n",
    "   pass"
   ]
  },
  {
   "cell_type": "markdown",
   "metadata": {},
   "source": [
    "### Average\n",
    "When the user sends `?average` with a list of numbers, the bot returns the average value of them  \n",
    "User: `?average 5 2 3 6`  \n",
    "Bot: `4`"
   ]
  },
  {
   "cell_type": "code",
   "execution_count": 95,
   "metadata": {},
   "outputs": [],
   "source": [
    "@bot.command()\n",
    "async def average(ctx, *args):\n",
    "   \"\"\"Responds with the average of a list of numbers\"\"\"\n",
    "   # your code here\n",
    "   pass"
   ]
  },
  {
   "cell_type": "markdown",
   "metadata": {},
   "source": [
    "### Parrot\n",
    "When the user sends `?parrot` with some text, the bot returns the text  \n",
    "User: `?parrot how are you doing?`  \n",
    "Bot: `how are you doing?`"
   ]
  },
  {
   "cell_type": "code",
   "execution_count": 96,
   "metadata": {},
   "outputs": [],
   "source": [
    "@bot.command()\n",
    "async def parrot(ctx, *args):\n",
    "   \"\"\"Responds with the text given\"\"\"\n",
    "   # your code here\n",
    "   pass"
   ]
  },
  {
   "cell_type": "markdown",
   "metadata": {},
   "source": [
    "### Mock\n",
    "When the user sends `?mock` with some text, the bot returns the text with the letters randomly capitalized  \n",
    "User: `?mock that's crazy`  \n",
    "Bot: `tHAt'S crAzY`"
   ]
  },
  {
   "cell_type": "code",
   "execution_count": 97,
   "metadata": {},
   "outputs": [],
   "source": [
    "@bot.command()\n",
    "async def mock(ctx, *args):\n",
    "   \"\"\"Responds with the given text with capitalization randomized\"\"\"\n",
    "   # your code here\n",
    "   pass"
   ]
  },
  {
   "cell_type": "markdown",
   "metadata": {},
   "source": [
    "### Xkcd\n",
    "When the user sends `?xkcd`, the bot responds with a random xkcd comic  \n",
    "User: `?xkcd`  \n",
    "Bot: `https://xkcd.com/1513/`"
   ]
  },
  {
   "cell_type": "code",
   "execution_count": 98,
   "metadata": {},
   "outputs": [],
   "source": [
    "@bot.command()\n",
    "async def xkcd(ctx):\n",
    "   \"\"\"Responds with a random xkcd comic\"\"\"\n",
    "   # your code here\n",
    "   pass"
   ]
  },
  {
   "cell_type": "markdown",
   "metadata": {},
   "source": [
    "### Choose\n",
    "When the user sends `?choose` with a list of items, the bot randomly picks one of them  \n",
    "User: `?choose apple banana monkey`  \n",
    "Bot: `monkey`"
   ]
  },
  {
   "cell_type": "code",
   "execution_count": 99,
   "metadata": {},
   "outputs": [],
   "source": [
    "@bot.command()\n",
    "async def choose(ctx, *args):\n",
    "   \"\"\"Chooses a given option randomly\"\"\"\n",
    "   # your code here\n",
    "   pass"
   ]
  },
  {
   "cell_type": "markdown",
   "metadata": {},
   "source": [
    "### Repeat\n",
    "When the user sends `?repeat` with a number and text, the bot sends the text the said number of times.  \n",
    "User: `?repeat 4 snek`  \n",
    "Bot: `snek`  \n",
    "Bot: `snek`  \n",
    "Bot: `snek`  \n",
    "Bot: `snek`  \n",
    "Make sure to remove all `@` characters (we don't need to make a ping bot) from the text and cap the number of times repeated to 10."
   ]
  },
  {
   "cell_type": "code",
   "execution_count": 100,
   "metadata": {},
   "outputs": [],
   "source": [
    "@bot.command()\n",
    "async def repeat(ctx, *args):\n",
    "   \"\"\"Repeats a given text a set number of times\"\"\"\n",
    "   # your code here\n",
    "   pass"
   ]
  },
  {
   "cell_type": "markdown",
   "metadata": {},
   "source": [
    "## Want something more ambitious?\n",
    "Feel free to add whatever (appropriate) features to the bot you want.  \n",
    "You could implement games like *highlow* (try to guess a number and the bot responds whether it's higher/lower) or *blackjack*.  \n",
    "If you want to create an economy / money system for the server, feel free to create files to store whatever data you need/want.  \n",
    "Or do whatever other fun with random Python libraries."
   ]
  },
  {
   "cell_type": "code",
   "execution_count": null,
   "metadata": {},
   "outputs": [],
   "source": []
  },
  {
   "cell_type": "markdown",
   "metadata": {},
   "source": [
    "### Running the bot\n",
    "We'll keep the bot token hidden from y'all (because ofcourse) but essentially we have a different python program that imports this module and runs this bot"
   ]
  },
  {
   "cell_type": "code",
   "execution_count": 101,
   "metadata": {},
   "outputs": [],
   "source": [
    "#bot.run('[token redacted]')"
   ]
  }
 ],
 "metadata": {
  "kernelspec": {
   "display_name": "Python 3",
   "language": "python",
   "name": "python3"
  },
  "language_info": {
   "codemirror_mode": {
    "name": "ipython",
    "version": 3
   },
   "file_extension": ".py",
   "mimetype": "text/x-python",
   "name": "python",
   "nbconvert_exporter": "python",
   "pygments_lexer": "ipython3",
   "version": "3.9.15"
  },
  "orig_nbformat": 4
 },
 "nbformat": 4,
 "nbformat_minor": 2
}
