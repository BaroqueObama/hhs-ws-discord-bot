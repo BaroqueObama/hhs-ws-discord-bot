{
 "cells": [
  {
   "cell_type": "markdown",
   "metadata": {},
   "source": [
    "# HHS CS Club Discord Bot"
   ]
  },
  {
   "cell_type": "markdown",
   "metadata": {},
   "source": [
    "### Python Cheat Sheets if you need one\n",
    "https://quickref.me/python.html  \n",
    "https://www.datacamp.com/cheat-sheet/getting-started-with-python-cheat-sheet  \n",
    "https://www.pythoncheatsheet.org/"
   ]
  },
  {
   "cell_type": "markdown",
   "metadata": {},
   "source": [
    "#### These are import statements"
   ]
  },
  {
   "cell_type": "code",
   "execution_count": 42,
   "metadata": {},
   "outputs": [],
   "source": [
    "import discord\n",
    "from discord.ext import commands\n",
    "from discord import app_commands\n",
    "import random"
   ]
  },
  {
   "cell_type": "markdown",
   "metadata": {},
   "source": [
    "#### Initializing bot object"
   ]
  },
  {
   "cell_type": "code",
   "execution_count": 43,
   "metadata": {},
   "outputs": [],
   "source": [
    "description = '''Howdy I'm the Homestead CS club bot.\n",
    "\n",
    "Here's some stuff I can do:'''\n",
    "\n",
    "intents = discord.Intents.default()\n",
    "intents.members = True\n",
    "intents.message_content = True\n",
    "\n",
    "bot = commands.Bot(command_prefix='?', description=description, intents=intents)"
   ]
  },
  {
   "cell_type": "markdown",
   "metadata": {},
   "source": [
    "#### Runs when bot is booted up"
   ]
  },
  {
   "cell_type": "code",
   "execution_count": 44,
   "metadata": {},
   "outputs": [],
   "source": [
    "@bot.event\n",
    "async def on_ready():\n",
    "    print(f'Logged in as {bot.user} (ID: {bot.user.id})')\n",
    "    print('------')"
   ]
  },
  {
   "cell_type": "markdown",
   "metadata": {},
   "source": [
    "# Add some features to the bot here!"
   ]
  },
  {
   "cell_type": "markdown",
   "metadata": {},
   "source": [
    "### Example\n",
    "When user types sends `?hello`, bot reponds `balls and lasagna`  \n",
    "User: `?hello`  \n",
    "Bot: `balls and lasagna`"
   ]
  },
  {
   "cell_type": "code",
   "execution_count": 45,
   "metadata": {},
   "outputs": [],
   "source": [
    "# decorator\n",
    "@bot.command()\n",
    "# function name is command name by default and can be changed with \"name\" keyword passed into decorator\n",
    "async def hello(ctx):\n",
    "    # docstrings\n",
    "    \"\"\"Responds \"balls and lasagna\\\"\"\"\"\n",
    "    # sends message in discord channel the command was called\n",
    "    await ctx.send(\"madhav is the president of the USA\")"
   ]
  },
  {
   "cell_type": "markdown",
   "metadata": {},
   "source": [
    "`@bot.command()`: Decorator that adds functions into initialized bot object  \n",
    "`async`/`await`: Syntax for coroutines in Python. Allows code to perform multiple tasks at the same time  \n",
    "`ctx`: Context object. Contains information like message content, channel, user who sent the message, etc.  \n",
    "  \n",
    "Find more information on the discordpy library here:   \n",
    "https://discordpy.readthedocs.io/en/stable/index.html  \n",
    "https://discordpy.readthedocs.io/en/stable/ext/commands/commands.html   "
   ]
  },
  {
   "cell_type": "markdown",
   "metadata": {},
   "source": [
    "### Bing Chilling\n",
    "When the user sends `?bing`, bot responds `chilling`  \n",
    "User: `?bing`  \n",
    "Bot: `chilling`"
   ]
  },
  {
   "cell_type": "code",
   "execution_count": 46,
   "metadata": {},
   "outputs": [],
   "source": [
    "@bot.command()\n",
    "async def bing(ctx):\n",
    "   await ctx.send(\"chillen\")"
   ]
  },
  {
   "cell_type": "markdown",
   "metadata": {},
   "source": [
    "### Add\n",
    "When the user sends `?add` with two numbers, the bot return the sum of the two  \n",
    "User: `?add 1 5`  \n",
    "Bot: `6`  "
   ]
  },
  {
   "cell_type": "code",
   "execution_count": 47,
   "metadata": {},
   "outputs": [],
   "source": [
    "@bot.command()\n",
    "async def add(ctx, a, b):\n",
    "    \"\"\"Adds two numbers together.\"\"\"\n",
    "    a+b\n",
    "    pass\n",
    "\n"
   ]
  },
  {
   "cell_type": "markdown",
   "metadata": {},
   "source": [
    "### Multiply\n",
    "When the user sends `?multiply` with two numbers, the bot multiplies them  \n",
    "User: `?multiply 2 3`  \n",
    "Bot: `6`"
   ]
  },
  {
   "cell_type": "code",
   "execution_count": 48,
   "metadata": {},
   "outputs": [
    {
     "ename": "SyntaxError",
     "evalue": "invalid syntax (509423844.py, line 2)",
     "output_type": "error",
     "traceback": [
      "\u001b[0;36m  Cell \u001b[0;32mIn[48], line 2\u001b[0;36m\u001b[0m\n\u001b[0;31m    @app_commands.describe(a = \"1st number\", b = )\u001b[0m\n\u001b[0m                                                 ^\u001b[0m\n\u001b[0;31mSyntaxError\u001b[0m\u001b[0;31m:\u001b[0m invalid syntax\n"
     ]
    }
   ],
   "source": [
    "\n",
    "\n",
    "@bot.tree.command(name = \"multiply\")\n",
    "# @app_commands.describe(a = \"1st number\", b = )\n",
    "async def multiply(interaction: discord.Interaction, a: int,b:int):\n",
    "    await interaction.response.send_message(a * b) #remember to put in the tilde key (`, not ')\n"
   ]
  },
  {
   "cell_type": "markdown",
   "metadata": {},
   "source": [
    "### Dice\n",
    "When the user sends `?dice`, bot responds with a random number between `1`-`6` (inclusive)  \n",
    "User: `?dice\n",
    "Bot: `4`"
   ]
  },
  {
   "cell_type": "code",
   "execution_count": 53,
   "metadata": {},
   "outputs": [
    {
     "ename": "CommandRegistrationError",
     "evalue": "The command dice is already an existing command or alias.",
     "output_type": "error",
     "traceback": [
      "\u001b[0;31m---------------------------------------------------------------------------\u001b[0m",
      "\u001b[0;31mCommandRegistrationError\u001b[0m                  Traceback (most recent call last)",
      "\u001b[1;32m/Users/daniel/Documents/GitHub/hhs-ws-discord-bot/hhsbot.ipynb Cell 20\u001b[0m line \u001b[0;36m2\n\u001b[1;32m      <a href='vscode-notebook-cell:/Users/daniel/Documents/GitHub/hhs-ws-discord-bot/hhsbot.ipynb#Y313sZmlsZQ%3D%3D?line=0'>1</a>\u001b[0m \u001b[39m@bot\u001b[39;49m\u001b[39m.\u001b[39;49mcommand()\n\u001b[0;32m----> <a href='vscode-notebook-cell:/Users/daniel/Documents/GitHub/hhs-ws-discord-bot/hhsbot.ipynb#Y313sZmlsZQ%3D%3D?line=1'>2</a>\u001b[0m \u001b[39masync\u001b[39;49;00m \u001b[39mdef\u001b[39;49;00m \u001b[39mdice\u001b[39;49m(ctx):\n\u001b[1;32m      <a href='vscode-notebook-cell:/Users/daniel/Documents/GitHub/hhs-ws-discord-bot/hhsbot.ipynb#Y313sZmlsZQ%3D%3D?line=2'>3</a>\u001b[0m    x \u001b[39m=\u001b[39;49m random(\u001b[39m1\u001b[39;49m,\u001b[39m6\u001b[39;49m)\n",
      "File \u001b[0;32m~/miniforge3/envs/jupyter/lib/python3.9/site-packages/discord/ext/commands/core.py:1521\u001b[0m, in \u001b[0;36mGroupMixin.command.<locals>.decorator\u001b[0;34m(func)\u001b[0m\n\u001b[1;32m   1519\u001b[0m kwargs\u001b[39m.\u001b[39msetdefault(\u001b[39m'\u001b[39m\u001b[39mparent\u001b[39m\u001b[39m'\u001b[39m, \u001b[39mself\u001b[39m)\n\u001b[1;32m   1520\u001b[0m result \u001b[39m=\u001b[39m command(name\u001b[39m=\u001b[39mname, \u001b[39mcls\u001b[39m\u001b[39m=\u001b[39m\u001b[39mcls\u001b[39m, \u001b[39m*\u001b[39margs, \u001b[39m*\u001b[39m\u001b[39m*\u001b[39mkwargs)(func)\n\u001b[0;32m-> 1521\u001b[0m \u001b[39mself\u001b[39;49m\u001b[39m.\u001b[39;49madd_command(result)\n\u001b[1;32m   1522\u001b[0m \u001b[39mreturn\u001b[39;00m result\n",
      "File \u001b[0;32m~/miniforge3/envs/jupyter/lib/python3.9/site-packages/discord/ext/commands/bot.py:246\u001b[0m, in \u001b[0;36mBotBase.add_command\u001b[0;34m(self, command)\u001b[0m\n\u001b[1;32m    244\u001b[0m \u001b[39m@discord\u001b[39m\u001b[39m.\u001b[39mutils\u001b[39m.\u001b[39mcopy_doc(GroupMixin\u001b[39m.\u001b[39madd_command)\n\u001b[1;32m    245\u001b[0m \u001b[39mdef\u001b[39;00m \u001b[39madd_command\u001b[39m(\u001b[39mself\u001b[39m, command: Command[Any, \u001b[39m.\u001b[39m\u001b[39m.\u001b[39m\u001b[39m.\u001b[39m, Any], \u001b[39m/\u001b[39m) \u001b[39m-\u001b[39m\u001b[39m>\u001b[39m \u001b[39mNone\u001b[39;00m:\n\u001b[0;32m--> 246\u001b[0m     \u001b[39msuper\u001b[39;49m()\u001b[39m.\u001b[39;49madd_command(command)\n\u001b[1;32m    247\u001b[0m     \u001b[39mif\u001b[39;00m \u001b[39misinstance\u001b[39m(command, (HybridCommand, HybridGroup)) \u001b[39mand\u001b[39;00m command\u001b[39m.\u001b[39mapp_command:\n\u001b[1;32m    248\u001b[0m         \u001b[39m# If a cog is also inheriting from app_commands.Group then it'll also\u001b[39;00m\n\u001b[1;32m    249\u001b[0m         \u001b[39m# add the hybrid commands as text commands, which would recursively add the\u001b[39;00m\n\u001b[1;32m    250\u001b[0m         \u001b[39m# hybrid commands as slash commands. This check just terminates that recursion\u001b[39;00m\n\u001b[1;32m    251\u001b[0m         \u001b[39m# from happening\u001b[39;00m\n\u001b[1;32m    252\u001b[0m         \u001b[39mif\u001b[39;00m command\u001b[39m.\u001b[39mcog \u001b[39mis\u001b[39;00m \u001b[39mNone\u001b[39;00m \u001b[39mor\u001b[39;00m \u001b[39mnot\u001b[39;00m command\u001b[39m.\u001b[39mcog\u001b[39m.\u001b[39m__cog_is_app_commands_group__:\n",
      "File \u001b[0;32m~/miniforge3/envs/jupyter/lib/python3.9/site-packages/discord/ext/commands/core.py:1356\u001b[0m, in \u001b[0;36mGroupMixin.add_command\u001b[0;34m(self, command)\u001b[0m\n\u001b[1;32m   1353\u001b[0m     command\u001b[39m.\u001b[39mparent \u001b[39m=\u001b[39m \u001b[39mself\u001b[39m\n\u001b[1;32m   1355\u001b[0m \u001b[39mif\u001b[39;00m command\u001b[39m.\u001b[39mname \u001b[39min\u001b[39;00m \u001b[39mself\u001b[39m\u001b[39m.\u001b[39mall_commands:\n\u001b[0;32m-> 1356\u001b[0m     \u001b[39mraise\u001b[39;00m CommandRegistrationError(command\u001b[39m.\u001b[39mname)\n\u001b[1;32m   1358\u001b[0m \u001b[39mself\u001b[39m\u001b[39m.\u001b[39mall_commands[command\u001b[39m.\u001b[39mname] \u001b[39m=\u001b[39m command\n\u001b[1;32m   1359\u001b[0m \u001b[39mfor\u001b[39;00m alias \u001b[39min\u001b[39;00m command\u001b[39m.\u001b[39maliases:\n",
      "\u001b[0;31mCommandRegistrationError\u001b[0m: The command dice is already an existing command or alias."
     ]
    }
   ],
   "source": [
    "@bot.command()\n",
    "async def dice(ctx):\n",
    "   x = random(1,6)\n",
    "   "
   ]
  },
  {
   "cell_type": "markdown",
   "metadata": {},
   "source": [
    "### Average\n",
    "When the user sends `?average` with a list of numbers, the bot returns the average value of them  \n",
    "User: `?average 5 2 3 6`  \n",
    "Bot: `4`"
   ]
  },
  {
   "cell_type": "code",
   "execution_count": null,
   "metadata": {},
   "outputs": [],
   "source": [
    "@bot.command()\n",
    "async def average(ctx, *args):\n",
    "   \"\"\"Responds with the average of a list of numbers\"\"\"\n",
    "   \n",
    "   pass"
   ]
  },
  {
   "cell_type": "markdown",
   "metadata": {},
   "source": [
    "### Parrot\n",
    "When the user sends `?parrot` with some text, the bot returns the text  \n",
    "User: `?parrot how are you doing?`  \n",
    "Bot: `how are you doing?`"
   ]
  },
  {
   "cell_type": "code",
   "execution_count": null,
   "metadata": {},
   "outputs": [],
   "source": [
    "@bot.command()\n",
    "async def parrot(ctx, *args):\n",
    "   \"\"\"Responds with the text given\"\"\"\n",
    "   ctx.send\n"
   ]
  },
  {
   "cell_type": "markdown",
   "metadata": {},
   "source": [
    "### Mock\n",
    "When the user sends `?mock` with some text, the bot returns the text with the letters randomly capitalized  \n",
    "User: `?mock that's crazy`  \n",
    "Bot: `tHAt'S crAzY`"
   ]
  },
  {
   "cell_type": "code",
   "execution_count": 57,
   "metadata": {},
   "outputs": [
    {
     "ename": "CommandRegistrationError",
     "evalue": "The command mock is already an existing command or alias.",
     "output_type": "error",
     "traceback": [
      "\u001b[0;31m---------------------------------------------------------------------------\u001b[0m",
      "\u001b[0;31mCommandRegistrationError\u001b[0m                  Traceback (most recent call last)",
      "\u001b[1;32m/Users/daniel/Documents/GitHub/hhs-ws-discord-bot/hhsbot.ipynb Cell 26\u001b[0m line \u001b[0;36m2\n\u001b[1;32m      <a href='vscode-notebook-cell:/Users/daniel/Documents/GitHub/hhs-ws-discord-bot/hhsbot.ipynb#Y322sZmlsZQ%3D%3D?line=0'>1</a>\u001b[0m \u001b[39m@bot\u001b[39;49m\u001b[39m.\u001b[39;49mcommand()\n\u001b[0;32m----> <a href='vscode-notebook-cell:/Users/daniel/Documents/GitHub/hhs-ws-discord-bot/hhsbot.ipynb#Y322sZmlsZQ%3D%3D?line=1'>2</a>\u001b[0m \u001b[39masync\u001b[39;49;00m \u001b[39mdef\u001b[39;49;00m \u001b[39mmock\u001b[39;49m(ctx, \u001b[39m*\u001b[39;49margs):\n\u001b[1;32m      <a href='vscode-notebook-cell:/Users/daniel/Documents/GitHub/hhs-ws-discord-bot/hhsbot.ipynb#Y322sZmlsZQ%3D%3D?line=2'>3</a>\u001b[0m \u001b[39m   \u001b[39;49m\u001b[39m\"\"\"Responds with the given text with capitalization randomized\"\"\"\u001b[39;49;00m\n\u001b[1;32m      <a href='vscode-notebook-cell:/Users/daniel/Documents/GitHub/hhs-ws-discord-bot/hhsbot.ipynb#Y322sZmlsZQ%3D%3D?line=3'>4</a>\u001b[0m    \u001b[39m# your code here\u001b[39;00m\n",
      "File \u001b[0;32m~/miniforge3/envs/jupyter/lib/python3.9/site-packages/discord/ext/commands/core.py:1521\u001b[0m, in \u001b[0;36mGroupMixin.command.<locals>.decorator\u001b[0;34m(func)\u001b[0m\n\u001b[1;32m   1519\u001b[0m kwargs\u001b[39m.\u001b[39msetdefault(\u001b[39m'\u001b[39m\u001b[39mparent\u001b[39m\u001b[39m'\u001b[39m, \u001b[39mself\u001b[39m)\n\u001b[1;32m   1520\u001b[0m result \u001b[39m=\u001b[39m command(name\u001b[39m=\u001b[39mname, \u001b[39mcls\u001b[39m\u001b[39m=\u001b[39m\u001b[39mcls\u001b[39m, \u001b[39m*\u001b[39margs, \u001b[39m*\u001b[39m\u001b[39m*\u001b[39mkwargs)(func)\n\u001b[0;32m-> 1521\u001b[0m \u001b[39mself\u001b[39;49m\u001b[39m.\u001b[39;49madd_command(result)\n\u001b[1;32m   1522\u001b[0m \u001b[39mreturn\u001b[39;00m result\n",
      "File \u001b[0;32m~/miniforge3/envs/jupyter/lib/python3.9/site-packages/discord/ext/commands/bot.py:246\u001b[0m, in \u001b[0;36mBotBase.add_command\u001b[0;34m(self, command)\u001b[0m\n\u001b[1;32m    244\u001b[0m \u001b[39m@discord\u001b[39m\u001b[39m.\u001b[39mutils\u001b[39m.\u001b[39mcopy_doc(GroupMixin\u001b[39m.\u001b[39madd_command)\n\u001b[1;32m    245\u001b[0m \u001b[39mdef\u001b[39;00m \u001b[39madd_command\u001b[39m(\u001b[39mself\u001b[39m, command: Command[Any, \u001b[39m.\u001b[39m\u001b[39m.\u001b[39m\u001b[39m.\u001b[39m, Any], \u001b[39m/\u001b[39m) \u001b[39m-\u001b[39m\u001b[39m>\u001b[39m \u001b[39mNone\u001b[39;00m:\n\u001b[0;32m--> 246\u001b[0m     \u001b[39msuper\u001b[39;49m()\u001b[39m.\u001b[39;49madd_command(command)\n\u001b[1;32m    247\u001b[0m     \u001b[39mif\u001b[39;00m \u001b[39misinstance\u001b[39m(command, (HybridCommand, HybridGroup)) \u001b[39mand\u001b[39;00m command\u001b[39m.\u001b[39mapp_command:\n\u001b[1;32m    248\u001b[0m         \u001b[39m# If a cog is also inheriting from app_commands.Group then it'll also\u001b[39;00m\n\u001b[1;32m    249\u001b[0m         \u001b[39m# add the hybrid commands as text commands, which would recursively add the\u001b[39;00m\n\u001b[1;32m    250\u001b[0m         \u001b[39m# hybrid commands as slash commands. This check just terminates that recursion\u001b[39;00m\n\u001b[1;32m    251\u001b[0m         \u001b[39m# from happening\u001b[39;00m\n\u001b[1;32m    252\u001b[0m         \u001b[39mif\u001b[39;00m command\u001b[39m.\u001b[39mcog \u001b[39mis\u001b[39;00m \u001b[39mNone\u001b[39;00m \u001b[39mor\u001b[39;00m \u001b[39mnot\u001b[39;00m command\u001b[39m.\u001b[39mcog\u001b[39m.\u001b[39m__cog_is_app_commands_group__:\n",
      "File \u001b[0;32m~/miniforge3/envs/jupyter/lib/python3.9/site-packages/discord/ext/commands/core.py:1356\u001b[0m, in \u001b[0;36mGroupMixin.add_command\u001b[0;34m(self, command)\u001b[0m\n\u001b[1;32m   1353\u001b[0m     command\u001b[39m.\u001b[39mparent \u001b[39m=\u001b[39m \u001b[39mself\u001b[39m\n\u001b[1;32m   1355\u001b[0m \u001b[39mif\u001b[39;00m command\u001b[39m.\u001b[39mname \u001b[39min\u001b[39;00m \u001b[39mself\u001b[39m\u001b[39m.\u001b[39mall_commands:\n\u001b[0;32m-> 1356\u001b[0m     \u001b[39mraise\u001b[39;00m CommandRegistrationError(command\u001b[39m.\u001b[39mname)\n\u001b[1;32m   1358\u001b[0m \u001b[39mself\u001b[39m\u001b[39m.\u001b[39mall_commands[command\u001b[39m.\u001b[39mname] \u001b[39m=\u001b[39m command\n\u001b[1;32m   1359\u001b[0m \u001b[39mfor\u001b[39;00m alias \u001b[39min\u001b[39;00m command\u001b[39m.\u001b[39maliases:\n",
      "\u001b[0;31mCommandRegistrationError\u001b[0m: The command mock is already an existing command or alias."
     ]
    }
   ],
   "source": [
    "@bot.command()\n",
    "async def mock(ctx, *args):\n",
    "   \"\"\"Responds with the given text with capitalization randomized\"\"\"\n",
    "   # your code here\n",
    "   "
   ]
  },
  {
   "cell_type": "code",
   "execution_count": 50,
   "metadata": {},
   "outputs": [
    {
     "ename": "CommandRegistrationError",
     "evalue": "The command mock is already an existing command or alias.",
     "output_type": "error",
     "traceback": [
      "\u001b[0;31m---------------------------------------------------------------------------\u001b[0m",
      "\u001b[0;31mCommandRegistrationError\u001b[0m                  Traceback (most recent call last)",
      "\u001b[1;32m/Users/daniel/Documents/GitHub/hhs-ws-discord-bot/hhsbot.ipynb Cell 27\u001b[0m line \u001b[0;36m2\n\u001b[1;32m      <a href='vscode-notebook-cell:/Users/daniel/Documents/GitHub/hhs-ws-discord-bot/hhsbot.ipynb#Y323sZmlsZQ%3D%3D?line=0'>1</a>\u001b[0m \u001b[39m@bot\u001b[39;49m\u001b[39m.\u001b[39;49mcommand()\n\u001b[0;32m----> <a href='vscode-notebook-cell:/Users/daniel/Documents/GitHub/hhs-ws-discord-bot/hhsbot.ipynb#Y323sZmlsZQ%3D%3D?line=1'>2</a>\u001b[0m \u001b[39masync\u001b[39;49;00m \u001b[39mdef\u001b[39;49;00m \u001b[39mmock\u001b[39;49m(ctx, \u001b[39m*\u001b[39;49margs):\n\u001b[1;32m      <a href='vscode-notebook-cell:/Users/daniel/Documents/GitHub/hhs-ws-discord-bot/hhsbot.ipynb#Y323sZmlsZQ%3D%3D?line=2'>3</a>\u001b[0m \u001b[39m   \u001b[39;49m\u001b[39m\"\"\"Responds with the given text with capitalization randomized\"\"\"\u001b[39;49;00m\n\u001b[1;32m      <a href='vscode-notebook-cell:/Users/daniel/Documents/GitHub/hhs-ws-discord-bot/hhsbot.ipynb#Y323sZmlsZQ%3D%3D?line=3'>4</a>\u001b[0m    \u001b[39mawait\u001b[39;49;00m interaction\u001b[39m.\u001b[39;49mresponse\u001b[39m.\u001b[39;49msend_message(\u001b[39m\"\u001b[39;49m\u001b[39mexample\u001b[39;49m\u001b[39m\"\u001b[39;49m)\n",
      "File \u001b[0;32m~/miniforge3/envs/jupyter/lib/python3.9/site-packages/discord/ext/commands/core.py:1521\u001b[0m, in \u001b[0;36mGroupMixin.command.<locals>.decorator\u001b[0;34m(func)\u001b[0m\n\u001b[1;32m   1519\u001b[0m kwargs\u001b[39m.\u001b[39msetdefault(\u001b[39m'\u001b[39m\u001b[39mparent\u001b[39m\u001b[39m'\u001b[39m, \u001b[39mself\u001b[39m)\n\u001b[1;32m   1520\u001b[0m result \u001b[39m=\u001b[39m command(name\u001b[39m=\u001b[39mname, \u001b[39mcls\u001b[39m\u001b[39m=\u001b[39m\u001b[39mcls\u001b[39m, \u001b[39m*\u001b[39margs, \u001b[39m*\u001b[39m\u001b[39m*\u001b[39mkwargs)(func)\n\u001b[0;32m-> 1521\u001b[0m \u001b[39mself\u001b[39;49m\u001b[39m.\u001b[39;49madd_command(result)\n\u001b[1;32m   1522\u001b[0m \u001b[39mreturn\u001b[39;00m result\n",
      "File \u001b[0;32m~/miniforge3/envs/jupyter/lib/python3.9/site-packages/discord/ext/commands/bot.py:246\u001b[0m, in \u001b[0;36mBotBase.add_command\u001b[0;34m(self, command)\u001b[0m\n\u001b[1;32m    244\u001b[0m \u001b[39m@discord\u001b[39m\u001b[39m.\u001b[39mutils\u001b[39m.\u001b[39mcopy_doc(GroupMixin\u001b[39m.\u001b[39madd_command)\n\u001b[1;32m    245\u001b[0m \u001b[39mdef\u001b[39;00m \u001b[39madd_command\u001b[39m(\u001b[39mself\u001b[39m, command: Command[Any, \u001b[39m.\u001b[39m\u001b[39m.\u001b[39m\u001b[39m.\u001b[39m, Any], \u001b[39m/\u001b[39m) \u001b[39m-\u001b[39m\u001b[39m>\u001b[39m \u001b[39mNone\u001b[39;00m:\n\u001b[0;32m--> 246\u001b[0m     \u001b[39msuper\u001b[39;49m()\u001b[39m.\u001b[39;49madd_command(command)\n\u001b[1;32m    247\u001b[0m     \u001b[39mif\u001b[39;00m \u001b[39misinstance\u001b[39m(command, (HybridCommand, HybridGroup)) \u001b[39mand\u001b[39;00m command\u001b[39m.\u001b[39mapp_command:\n\u001b[1;32m    248\u001b[0m         \u001b[39m# If a cog is also inheriting from app_commands.Group then it'll also\u001b[39;00m\n\u001b[1;32m    249\u001b[0m         \u001b[39m# add the hybrid commands as text commands, which would recursively add the\u001b[39;00m\n\u001b[1;32m    250\u001b[0m         \u001b[39m# hybrid commands as slash commands. This check just terminates that recursion\u001b[39;00m\n\u001b[1;32m    251\u001b[0m         \u001b[39m# from happening\u001b[39;00m\n\u001b[1;32m    252\u001b[0m         \u001b[39mif\u001b[39;00m command\u001b[39m.\u001b[39mcog \u001b[39mis\u001b[39;00m \u001b[39mNone\u001b[39;00m \u001b[39mor\u001b[39;00m \u001b[39mnot\u001b[39;00m command\u001b[39m.\u001b[39mcog\u001b[39m.\u001b[39m__cog_is_app_commands_group__:\n",
      "File \u001b[0;32m~/miniforge3/envs/jupyter/lib/python3.9/site-packages/discord/ext/commands/core.py:1356\u001b[0m, in \u001b[0;36mGroupMixin.add_command\u001b[0;34m(self, command)\u001b[0m\n\u001b[1;32m   1353\u001b[0m     command\u001b[39m.\u001b[39mparent \u001b[39m=\u001b[39m \u001b[39mself\u001b[39m\n\u001b[1;32m   1355\u001b[0m \u001b[39mif\u001b[39;00m command\u001b[39m.\u001b[39mname \u001b[39min\u001b[39;00m \u001b[39mself\u001b[39m\u001b[39m.\u001b[39mall_commands:\n\u001b[0;32m-> 1356\u001b[0m     \u001b[39mraise\u001b[39;00m CommandRegistrationError(command\u001b[39m.\u001b[39mname)\n\u001b[1;32m   1358\u001b[0m \u001b[39mself\u001b[39m\u001b[39m.\u001b[39mall_commands[command\u001b[39m.\u001b[39mname] \u001b[39m=\u001b[39m command\n\u001b[1;32m   1359\u001b[0m \u001b[39mfor\u001b[39;00m alias \u001b[39min\u001b[39;00m command\u001b[39m.\u001b[39maliases:\n",
      "\u001b[0;31mCommandRegistrationError\u001b[0m: The command mock is already an existing command or alias."
     ]
    }
   ],
   "source": []
  },
  {
   "cell_type": "markdown",
   "metadata": {},
   "source": [
    "### Xkcd\n",
    "When the user sends `?xkcd`, the bot responds with a random xkcd comic  \n",
    "User: `?xkcd`  \n",
    "Bot: `https://xkcd.com/1513/`"
   ]
  },
  {
   "cell_type": "code",
   "execution_count": null,
   "metadata": {},
   "outputs": [],
   "source": [
    "@bot.command()\n",
    "async def xkcd(ctx):\n",
    "   \"\"\"Responds with a random xkcd comic\"\"\"\n",
    "   # your code here\n",
    "   pass"
   ]
  },
  {
   "cell_type": "markdown",
   "metadata": {},
   "source": [
    "### Choose\n",
    "When the user sends `?choose` with a list of items, the bot randomly picks one of them  \n",
    "User: `?choose apple banana monkey`  \n",
    "Bot: `monkey`"
   ]
  },
  {
   "cell_type": "code",
   "execution_count": null,
   "metadata": {},
   "outputs": [],
   "source": [
    "@bot.command()\n",
    "async def choose(ctx, *args):\n",
    "   \"\"\"Chooses a given option randomly\"\"\"\n",
    "   # your code here\n",
    "   pass"
   ]
  },
  {
   "cell_type": "markdown",
   "metadata": {},
   "source": [
    "### Repeat\n",
    "When the user sends `?repeat` with a number and text, the bot sends the text the said number of times.  \n",
    "User: `?repeat 4 snek`  \n",
    "Bot: `snek`  \n",
    "Bot: `snek`  \n",
    "Bot: `snek`  \n",
    "Bot: `snek`  \n",
    "Make sure to remove all `@` characters (we don't need to make a ping bot) from the text and cap the number of times repeated to 10."
   ]
  },
  {
   "cell_type": "code",
   "execution_count": null,
   "metadata": {},
   "outputs": [],
   "source": [
    "@bot.command()\n",
    "async def repeat(ctx, *args):\n",
    "   \"\"\"Repeats a given text a set number of times\"\"\"\n",
    "   # your code here\n",
    "   pass"
   ]
  },
  {
   "cell_type": "markdown",
   "metadata": {},
   "source": [
    "## Want something more ambitious?\n",
    "Feel free to add whatever (appropriate) features to the bot you want.  \n",
    "You could implement games like *highlow* (try to guess a number and the bot responds whether it's higher/lower) or *blackjack*.  \n",
    "If you want to create an economy / money system for the server, feel free to create files to store whatever data you need/want.  \n",
    "Or do whatever other fun with random Python libraries."
   ]
  },
  {
   "cell_type": "code",
   "execution_count": null,
   "metadata": {},
   "outputs": [],
   "source": [
    "@bot.command()\n",
    "async def l(ctx, *args):\n",
    "    \"\""
   ]
  },
  {
   "cell_type": "markdown",
   "metadata": {},
   "source": [
    "### Running the bot\n",
    "We'll keep the bot token hidden from y'all (because ofcourse) but essentially we have a different python program that imports this module and runs this bot"
   ]
  },
  {
   "cell_type": "code",
   "execution_count": null,
   "metadata": {},
   "outputs": [],
   "source": [
    "#bot.run('[token redacted]')"
   ]
  }
 ],
 "metadata": {
  "kernelspec": {
   "display_name": "Python 3",
   "language": "python",
   "name": "python3"
  },
  "language_info": {
   "codemirror_mode": {
    "name": "ipython",
    "version": 3
   },
   "file_extension": ".py",
   "mimetype": "text/x-python",
   "name": "python",
   "nbconvert_exporter": "python",
   "pygments_lexer": "ipython3",
   "version": "3.9.15"
  },
  "orig_nbformat": 4
 },
 "nbformat": 4,
 "nbformat_minor": 2
}
